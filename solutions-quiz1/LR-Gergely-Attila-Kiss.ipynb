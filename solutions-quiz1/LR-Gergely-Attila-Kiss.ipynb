{
 "cells": [
  {
   "cell_type": "code",
   "execution_count": 1,
   "metadata": {},
   "outputs": [],
   "source": [
    "import pandas as pd\n",
    "from sklearn.datasets import load_boston \n",
    "from sklearn.model_selection import train_test_split\n",
    "from sklearn import linear_model\n",
    "from sklearn.metrics import mean_squared_error as mse\n",
    "from math import sqrt as sqrt\n",
    "import matplotlib.pyplot as plt\n",
    "import seaborn as sns\n",
    "reg = linear_model.LinearRegression()"
   ]
  },
  {
   "cell_type": "code",
   "execution_count": 2,
   "metadata": {},
   "outputs": [],
   "source": [
    "boston = load_boston()\n",
    "boston_data = pd.DataFrame(boston.data, columns = boston.feature_names)\n",
    "boston_data['Price'] = boston.target\n",
    "# Data Columns\n",
    "X = boston_data.drop('Price',1)\n",
    "# Targets\n",
    "y = boston_data.Price"
   ]
  },
  {
   "cell_type": "markdown",
   "metadata": {},
   "source": [
    "## Question 1"
   ]
  },
  {
   "cell_type": "code",
   "execution_count": 3,
   "metadata": {},
   "outputs": [],
   "source": [
    "X_train, X_test, y_train, y_test = train_test_split( X, y, test_size=0.2, random_state=17)\n",
    "\n",
    "reg.fit(X_train,y_train)\n",
    "yhat_train = reg.predict(X_train)\n",
    "yhat_test = reg.predict(X_test)"
   ]
  },
  {
   "cell_type": "code",
   "execution_count": 4,
   "metadata": {},
   "outputs": [
    {
     "name": "stdout",
     "output_type": "stream",
     "text": [
      "Training set score: 0.75\n",
      "Training MSE: 22.58\n",
      "Training RMSE: 4.75\n",
      "Test set score: 0.70\n",
      "Test MSE: 19.81\n",
      "Test RMSE: 4.45\n"
     ]
    }
   ],
   "source": [
    "X = boston_data.drop('Price',1)#R2, MSE, RMSE\n",
    "print(\"Training set score: {:.2f}\".format(reg.score(X_train , y_train)))\n",
    "print(\"Training MSE: {:.2f}\".format(mse(y_train , yhat_train)))\n",
    "print(\"Training RMSE: {:.2f}\".format(sqrt(mse(y_train, yhat_train))))\n",
    "print(\"Test set score: {:.2f}\".format(reg.score(X_test, y_test)))\n",
    "print(\"Test MSE: {:.2f}\".format(mse(y_test , yhat_test)))\n",
    "print(\"Test RMSE: {:.2f}\".format(sqrt(mse(y_test, yhat_test))))"
   ]
  },
  {
   "cell_type": "markdown",
   "metadata": {},
   "source": [
    "Seeing the above scores it is a little bit contradicting as it shows a higher $R^2$ in the train sample, but it also shows a higher MSE. Which means that in the train sample the model explains more of the variance of the prices, however in the test sample it is predicted more accurately."
   ]
  },
  {
   "cell_type": "markdown",
   "metadata": {},
   "source": [
    "## Question 2"
   ]
  },
  {
   "cell_type": "code",
   "execution_count": 5,
   "metadata": {},
   "outputs": [],
   "source": [
    "x = boston_data[['RM']]\n",
    "x_train, x_test, y_train, y_test = train_test_split(x,y, test_size=0.2, random_state=17)\n",
    "reg.fit(x_train,y_train)\n",
    "yhat_train_RM = reg.predict(x_train)\n",
    "yhat_test_RM = reg.predict(x_test)"
   ]
  },
  {
   "cell_type": "code",
   "execution_count": 6,
   "metadata": {},
   "outputs": [
    {
     "name": "stdout",
     "output_type": "stream",
     "text": [
      "Training set score: 0.47\n",
      "Training MSE: 46.99\n",
      "Training RMSE: 6.86\n",
      "Test set score: 0.54\n",
      "Test MSE: 30.17\n",
      "Test RMSE: 5.49\n"
     ]
    }
   ],
   "source": [
    "#R2, MSE, RMSE\n",
    "print(\"Training set score: {:.2f}\".format(reg.score(x_train , y_train)))\n",
    "print(\"Training MSE: {:.2f}\".format(mse(y_train , yhat_train_RM)))\n",
    "print(\"Training RMSE: {:.2f}\".format(sqrt(mse(y_train, yhat_train_RM))))\n",
    "print(\"Test set score: {:.2f}\".format(reg.score(x_test, y_test)))\n",
    "print(\"Test MSE: {:.2f}\".format(mse(y_test , yhat_test_RM)))\n",
    "print(\"Test RMSE: {:.2f}\".format(sqrt(mse(y_test, yhat_test_RM))))"
   ]
  },
  {
   "cell_type": "markdown",
   "metadata": {},
   "source": [
    "In both senses in sample and out of sample the first model performed better, since the $R^2$ statistics are higher and the MSE statistics are lower. However, it seems that the number of rooms is a variable with high significance, while it is inself explains about 50% of the variation of the prices."
   ]
  }
 ],
 "metadata": {
  "kernelspec": {
   "display_name": "Python 3",
   "language": "python",
   "name": "python3"
  },
  "language_info": {
   "codemirror_mode": {
    "name": "ipython",
    "version": 3
   },
   "file_extension": ".py",
   "mimetype": "text/x-python",
   "name": "python",
   "nbconvert_exporter": "python",
   "pygments_lexer": "ipython3",
   "version": "3.8.3"
  }
 },
 "nbformat": 4,
 "nbformat_minor": 4
}
